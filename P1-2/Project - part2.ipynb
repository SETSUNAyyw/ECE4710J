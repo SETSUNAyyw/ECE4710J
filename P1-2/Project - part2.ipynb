{
 "cells": [
  {
   "cell_type": "markdown",
   "id": "686361fc",
   "metadata": {},
   "source": [
    "# Project Part II: Predicting Housing Prices - Build Your Own Model\n",
    "\n",
    " "
   ]
  },
  {
   "cell_type": "markdown",
   "id": "0ed53d17",
   "metadata": {},
   "source": [
    "### Grading Scheme\n",
    "\n",
    "Your grade for the project will be based on your training RMSE and test RMSE. The thresholds are as follows:\n",
    "\n",
    "Points | 9 | 7 | 5 | 3\n",
    "--- | --- | --- | --- | ---\n",
    "Training RMSE | Less than 60k | [60k, 120k) | [120k, 200k) | More than 230k\n",
    "\n",
    "Points | 9 | 7 | 5 | 3\n",
    "--- | --- | --- | --- | ---\n",
    "Test RMSE | Less than 65k | [65k, 130k) | [130k, 230k) | More than 230k\n",
    "\n",
    "The top 20% of the submissions with the least testing errors will receive the additional two points\n"
   ]
  },
  {
   "cell_type": "code",
   "execution_count": 1,
   "id": "e08e008a",
   "metadata": {},
   "outputs": [],
   "source": [
    "# Some Imports You Might Need\n",
    "import numpy as np\n",
    "import pandas as pd\n",
    "from pandas.api.types import CategoricalDtype\n",
    "\n",
    "%matplotlib inline\n",
    "import matplotlib.pyplot as plt\n",
    "import seaborn as sns\n",
    "\n",
    "import warnings\n",
    "warnings.filterwarnings(\"ignore\")\n",
    "\n",
    "import zipfile\n",
    "import os\n",
    "\n",
    "from sklearn.preprocessing import OneHotEncoder\n",
    "from sklearn import linear_model as lm\n",
    "\n",
    "# Plot settings\n",
    "plt.rcParams['figure.figsize'] = (12, 9)\n",
    "plt.rcParams['font.size'] = 12\n",
    "\n",
    "# Extract Dataset\n",
    "with zipfile.ZipFile('cook_county_contest_data.zip') as item:\n",
    "    item.extractall()\n",
    "    \n",
    "    \n",
    "### Note: we filtered the data in cook_county_contest_data, \n",
    "####so please use this dataset instead of the old one."
   ]
  },
  {
   "cell_type": "markdown",
   "id": "1c4be2e9",
   "metadata": {},
   "source": [
    "### Note\n",
    "\n",
    "This notebook is specifically designed to guide you through the process of exporting your model's predictions on the test dataset for submission so you can see how your model performs.\n",
    "\n",
    "Most of what you have done in project part I should be transferrable here. "
   ]
  },
  {
   "cell_type": "markdown",
   "id": "d7f09b63",
   "metadata": {},
   "source": [
    "## Step 1. Set up all the helper functions for your `process_data_fm` function.\n",
    "\n",
    "**Copy-paste all of the helper functions your `process_data_fm` need here in the following cell**. You **do not** have to fill out all of the functions in the cell below -- only fill out those that are actually useful to your feature engineering pipeline."
   ]
  },
  {
   "cell_type": "code",
   "execution_count": 17,
   "id": "df894371",
   "metadata": {},
   "outputs": [],
   "source": [
    "def add_total_bedrooms(data):\n",
    "    with_rooms = data.copy()\n",
    "    with_rooms[\"Bedrooms\"] = with_rooms[\"Description\"].str.findall(\".*(\\d+) of which are bedrooms.*\").str[0].astype(int)\n",
    "    with_rooms[\"Rooms\"] = with_rooms[\"Description\"].str.findall(\".*(\\d+) rooms.*\").str[0].astype(int)\n",
    "    with_rooms[\"Bathrooms\"] = with_rooms[\"Description\"].str.findall(\".*(\\d+) of which are bathrooms.*\").str[0].astype(int)\n",
    "    return with_rooms\n",
    "\n",
    "def ohe_roof_material(data):\n",
    "    oh_enc = OneHotEncoder()\n",
    "    oh_enc.fit(data[[\"Roof Material\"]])\n",
    "    ohe_cols = pd.DataFrame(oh_enc.transform(data[[\"Roof Material\"]]).todense(), \n",
    "                           columns = oh_enc.get_feature_names(),\n",
    "                           index = data.index)\n",
    "    return data.join(ohe_cols)\n",
    "    \n",
    "def ohe_wall_material(data):\n",
    "    oh_enc = OneHotEncoder()\n",
    "    oh_enc.fit(data[[\"Wall Material\"]])\n",
    "    ohe_cols = pd.DataFrame(oh_enc.transform(data[[\"Wall Material\"]]).todense(), \n",
    "                           columns = oh_enc.get_feature_names(),\n",
    "                           index = data.index)\n",
    "    return data.join(ohe_cols)\n",
    "\n",
    "def process_data_gm(data, pipeline_functions):\n",
    "    for function, arguments, keyword_arguments in pipeline_functions:\n",
    "        if keyword_arguments and (not arguments):\n",
    "            data = data.pipe(function, **keyword_arguments)\n",
    "        elif (not keyword_arguments) and (arguments):\n",
    "            data = data.pipe(function, *arguments)\n",
    "        else:\n",
    "            data = data.pipe(function)\n",
    "    return data\n",
    "\n",
    "def select_columns(data, *columns):\n",
    "    return data.loc[:, columns]\n",
    "\n",
    "def logTransform(data, column):\n",
    "    df = data.copy()\n",
    "    df[\"Log \" + column] = np.log(data[column])\n",
    "    return df\n",
    "\n",
    "def rmse(predicted, actual):\n",
    "    return np.sqrt(np.mean((actual - predicted)**2))\n",
    "\n",
    "def yearInterval(data):\n",
    "    data[\"Sale Year\"] = data[\"Sale Year\"] - 2013\n",
    "    return data\n",
    "\n",
    "def substitute_roof_material(data):\n",
    "    data[\"Roof Material\"] = data[\"Roof Material\"].replace({\n",
    "            1: \"Shingle/Asphalt\",\n",
    "            2: \"Tar&Gravel\",\n",
    "            3: \"Slate\",\n",
    "            4: \"Shake\",\n",
    "            5: \"Tile\",\n",
    "            6: \"Other\"})\n",
    "    return data\n",
    "\n",
    "def substitute_wall_material(data):\n",
    "    data[\"Wall Material\"] = data[\"Wall Material\"].replace({\n",
    "            1: \"Wood\",\n",
    "            2: \"Masonry\",\n",
    "            3: \"Wood&Masonry\",\n",
    "            4: \"Stucco\"})\n",
    "    return data"
   ]
  },
  {
   "cell_type": "markdown",
   "id": "e8a8d9b0",
   "metadata": {},
   "source": [
    "## Step 2. Setup your `process_data_fm` function\n",
    "\n",
    "**Create your implementation of `process_data_fm` from into the following cell.**\n",
    "\n",
    "Here are a few additional things **you should check and change to make sure your `process_data_fm` function satisfies**:\n",
    "- Unlike part 1, we will not be expecting your `process_data_fm` function to return both the design matrix `X` and the observed target vector `y`; your function should now **only return X**.\n"
   ]
  },
  {
   "cell_type": "code",
   "execution_count": 32,
   "id": "ee76e07e",
   "metadata": {},
   "outputs": [],
   "source": [
    "# train_data = pd.read_csv('cook_county_contest_train.csv', index_col='Unnamed: 0')\n",
    "# Please include all of your feature engineering process inside this function.\n",
    "# Do not modify the parameters of the function below. \n",
    "# Note that data will no longer have the column Sale Price in it directly, so plan your feature engineering process around that.\n",
    "def process_data_fm(data):\n",
    "    # Replace the following line with your own feature engineering pipeline\n",
    "    X = process_data_gm(data, [\n",
    "        [logTransform, [\"Building Square Feet\"], None],\n",
    "        [add_total_bedrooms, None, None],\n",
    "        [substitute_roof_material, None, None],\n",
    "        [ohe_roof_material, None, None],\n",
    "        [substitute_wall_material, None, None],\n",
    "        [ohe_wall_material, None, None],\n",
    "        [yearInterval, None, None],\n",
    "        [select_columns, [\"Bedrooms\", \"Log Building Square Feet\", \"Garage 1 Area\", \"Age\", \"Sale Year\", \n",
    "                          \"Sale Month of Year\", \"Most Recent Sale\", \"Neighborhood Code\",\n",
    "                         \"Town and Neighborhood\", \"Property Class\", \"x0_Shingle/Asphalt\",\n",
    "                         \"x0_Other\", \"x0_Stucco\", \"x0_Wood&Masonry\", \"x0_Masonry\",\n",
    "                         \"Basement\", \"Basement Finish\", \"Other Heating\", \"Central Air\", \"Fireplaces\",\n",
    "                         \"Attic Type\", \"Attic Finish\", \"Design Plan\", \"Cathedral Ceiling\",\n",
    "                         \"Garage 1 Size\", \"Garage 2 Size\", \"Garage 2 Attachment\",\n",
    "                          \"Garage 2 Material\", \"Apartments\",\n",
    "                         \"Garage 2 Area\", \"Porch\", \"Multi Code\", \"Number of Commercial Units\",\n",
    "                          \"Multi Property Indicator\", \"Use\", \"O'Hare Noise\", \"Floodplain\", \"Road Proximity\",\n",
    "                         \"Pure Market Filter\", \"Rooms\", \"Bathrooms\"], None]\n",
    "    ])\n",
    "    return X\n",
    "\n",
    "from sklearn.model_selection import KFold\n",
    "from sklearn.base import clone\n",
    "from sklearn.ensemble import RandomForestRegressor\n",
    "\n",
    "def cross_validate_rmse(phi_function, model):\n",
    "    model = clone(model)\n",
    "    five_fold = KFold(n_splits = 5, random_state = 100, shuffle = True)\n",
    "    rmse_values = []\n",
    "    for tr_ind, va_ind in five_fold.split(train_data):\n",
    "        X_train = phi_function(train_data.iloc[tr_ind, :])\n",
    "        y_train = train_data['Sale Price'].iloc[tr_ind]\n",
    "        X_val = phi_function(train_data.iloc[va_ind, :])\n",
    "        y_val = train_data['Sale Price'].iloc[va_ind]\n",
    "        model.fit(X_train, y_train)\n",
    "        rmse_values.append(rmse(y_train, model.predict(X_train)))\n",
    "        rmse_values.append(rmse(y_val, model.predict(X_val)))\n",
    "        print(rmse_values)\n",
    "        \n",
    "    return rmse_values\n",
    "\n",
    "# bootstrap_factor = []\n",
    "# for i in np.arange(0.1, 1.0, 0.1):\n",
    "#     bootstrap_factor.append(cross_validate_rmse(process_data_fm, RandomForestRegressor(max_samples = i)))"
   ]
  },
  {
   "cell_type": "code",
   "execution_count": 39,
   "id": "a4ecf87c",
   "metadata": {},
   "outputs": [
    {
     "data": {
      "image/png": "[encoded data removed]",
      "text/plain": [
       "<Figure size 864x648 with 1 Axes>"
      ]
     },
     "metadata": {
      "needs_background": "light"
     },
     "output_type": "display_data"
    }
   ],
   "source": [
    "plt.plot(np.arange(0.1, 1.1, 0.1), np.transpose(bootstrap_factor)[0])\n",
    "plt.plot(np.arange(0.1, 1.1, 0.1), np.transpose(bootstrap_factor)[1], \"r\")\n",
    "plt.legend([\"Train Error\", \"Validation Error\"])\n",
    "plt.xlabel(\"Bootstrap sample proportion\")\n",
    "plt.ylabel(\"RMSE\")\n",
    "plt.savefig(\"Bootstrap_factor.png\")\n",
    "plt.show()\n",
    "# bootstrap_factor"
   ]
  },
  {
   "cell_type": "markdown",
   "id": "1c3e2d03",
   "metadata": {},
   "source": [
    "## Step 3. Train your model\n",
    "\n",
    "Run the following cell to import the new set of training data to fit your model on. **You can use any regression model, the following is just an example** If your `process_data_fm` satisfies all the specified requirements, the cell should run without any error.\n",
    "\n",
    "**As usual**, your model will predict the log-transformed sale price, and our grading will transform your predictions back to the normal vlaues."
   ]
  },
  {
   "cell_type": "code",
   "execution_count": 14,
   "id": "92caa085",
   "metadata": {},
   "outputs": [
    {
     "data": {
      "text/plain": [
       "26497.908772352617"
      ]
     },
     "execution_count": 14,
     "metadata": {},
     "output_type": "execute_result"
    }
   ],
   "source": [
    "train_data = pd.read_csv('cook_county_contest_train.csv', index_col='Unnamed: 0')\n",
    "y_train = train_data['Sale Price']\n",
    "train_data = train_data.drop(columns=['Sale Price'])\n",
    "X_train = process_data_fm(train_data)\n",
    "from sklearn.ensemble import RandomForestRegressor\n",
    "model = RandomForestRegressor()\n",
    "###You can use other models\n",
    "model.fit(X_train, y_train);\n",
    "y_fitted = model.predict(X_train)\n",
    "rmse(y_fitted, y_train)\n"
   ]
  },
  {
   "cell_type": "markdown",
   "id": "74ce6120",
   "metadata": {},
   "source": [
    "## Step 4. Make Predictions on the Test Dataset\n",
    "\n",
    "Run the following cell to estimate the sale price on the test dataset and export your model's predictions as a csv file called `predictions.csv`."
   ]
  },
  {
   "cell_type": "code",
   "execution_count": 16,
   "id": "436269dc",
   "metadata": {
    "scrolled": true
   },
   "outputs": [
    {
     "name": "stdout",
     "output_type": "stream",
     "text": [
      "Your predictions have been exported as predictions.csv. Please download the file and submit it to Canvas. \n"
     ]
    }
   ],
   "source": [
    "test_data = pd.read_csv('cook_county_contest_test.csv', index_col='Unnamed: 0')\n",
    "X_test = process_data_fm(test_data)\n",
    "y_test_predicted = model.predict(X_test)\n",
    "predictions = pd.DataFrame({'Sale Price': y_test_predicted})\n",
    "predictions.to_csv('predictions.csv')\n",
    "print('Your predictions have been exported as predictions.csv. Please download the file and submit it to Canvas. ')"
   ]
  },
  {
   "cell_type": "markdown",
   "id": "f63e62b6",
   "metadata": {},
   "source": [
    "## Result\n",
    "\n",
    "The training result is:\n",
    "\n",
    "`rmse = 26497.908772352617`\n",
    "\n",
    "The 5-fold cross validation result is:\n",
    "\n",
    "    train rmse          test rmse\n",
    "    26878.01868665509   71207.99700515775\n",
    "    26866.088698055304  71717.57952440769\n",
    "    26940.176885743967  72763.35922204204\n",
    "    26985.02732617549   72064.2820273494\n",
    "    26861.2185375752    70959.035734583"
   ]
  }
 ],
 "metadata": {
  "kernelspec": {
   "display_name": "Python 3 (ipykernel)",
   "language": "python",
   "name": "python3"
  },
  "language_info": {
   "codemirror_mode": {
    "name": "ipython",
    "version": 3
   },
   "file_extension": ".py",
   "mimetype": "text/x-python",
   "name": "python",
   "nbconvert_exporter": "python",
   "pygments_lexer": "ipython3",
   "version": "3.9.6"
  }
 },
 "nbformat": 4,
 "nbformat_minor": 5
}
